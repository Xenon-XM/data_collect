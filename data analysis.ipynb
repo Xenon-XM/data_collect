{
 "cells": [
  {
   "cell_type": "markdown",
   "id": "412f5c45",
   "metadata": {},
   "source": [
    "# Data analysis"
   ]
  },
  {
   "cell_type": "markdown",
   "id": "14084c92",
   "metadata": {},
   "source": [
    "### Importing needed libraries"
   ]
  },
  {
   "cell_type": "code",
   "execution_count": null,
   "id": "bacff4b3",
   "metadata": {},
   "outputs": [],
   "source": [
    "!pip install descartes\n",
    "!pip install geopandas\n",
    "!pip install country_converter\n",
    "import numpy as np\n",
    "import matplotlib.pyplot as plt\n",
    "from matplotlib.gridspec import GridSpec\n",
    "import pandas\n",
    "import geopandas as gpd\n",
    "from matplotlib import style\n",
    "import country_converter as coco"
   ]
  },
  {
   "cell_type": "markdown",
   "id": "c932af45",
   "metadata": {},
   "source": [
    "### Loading a CSV file in Python "
   ]
  },
  {
   "cell_type": "code",
   "execution_count": null,
   "id": "cfd0f177",
   "metadata": {},
   "outputs": [],
   "source": [
    "data = pandas.read_csv('data.csv', sep=',')\n",
    "data"
   ]
  },
  {
   "cell_type": "code",
   "execution_count": null,
   "id": "37ffec5e",
   "metadata": {},
   "outputs": [],
   "source": [
    "#check the column names\n",
    "data.columns.values"
   ]
  },
  {
   "cell_type": "code",
   "execution_count": null,
   "id": "1ccd0b5b",
   "metadata": {},
   "outputs": [],
   "source": [
    "#get the number of collected domains\n",
    "index = data.index\n",
    "total = len(index)\n",
    "print(total)"
   ]
  },
  {
   "cell_type": "markdown",
   "id": "b86d20e2",
   "metadata": {},
   "source": [
    "### Distribution of domain names across name servers"
   ]
  },
  {
   "cell_type": "code",
   "execution_count": null,
   "id": "3e9a9320",
   "metadata": {},
   "outputs": [],
   "source": [
    "#settings of plotting\n",
    "plt.style.use('seaborn-deep')\n",
    "plt.rcParams.update({'font.size': 10})"
   ]
  },
  {
   "cell_type": "code",
   "execution_count": null,
   "id": "c40cfba4",
   "metadata": {},
   "outputs": [],
   "source": [
    "#grouping the data by NS IPs\n",
    "ns = data.groupby('IP of NS')\n",
    "ns_counter = ns.size().to_frame('size')\n",
    "ns_counter\n"
   ]
  },
  {
   "cell_type": "code",
   "execution_count": null,
   "id": "08188124",
   "metadata": {},
   "outputs": [],
   "source": [
    "#sorting the results and counting the percentage distribution\n",
    "result_ns = ns_counter.sort_values('size', ascending=False)\n",
    "result_ns['percent'] = result_ns['size']/total*100\n",
    "result_ns=result_ns.reset_index()\n",
    "result_ns.index += 1 \n",
    "result_ns_table = result_ns.head(25)\n",
    "print(result_ns_table)\n",
    "result_ns_table['percent'].sum()"
   ]
  },
  {
   "cell_type": "code",
   "execution_count": null,
   "id": "2578cd25",
   "metadata": {},
   "outputs": [],
   "source": [
    "#printing the graph\n",
    "\n",
    "ns_pl = result_ns.cumsum()\n",
    "ns_pl.plot(y='percent', kind='line', \n",
    "        figsize=(5, 4), legend=False, style='b.-')\n",
    "#plt.title(\" Distribution of domains across name servers\", y=1.01, fontsize=15)\n",
    "plt.ylabel(\"Percentage of vulnerable domains\", labelpad=15, fontsize=12)\n",
    "plt.xlabel(\"Number of authoritative name servers\", labelpad=15, fontsize=12);"
   ]
  },
  {
   "cell_type": "markdown",
   "id": "4b084ad8",
   "metadata": {},
   "source": [
    "### Distribution of domain names across autonomous systems"
   ]
  },
  {
   "cell_type": "code",
   "execution_count": null,
   "id": "cc316b94",
   "metadata": {},
   "outputs": [],
   "source": [
    "#grouping the data by NS ASNs\n",
    "ASN_dns = data.groupby('ASN(NS)')\n",
    "ASN_dns_counter = ASN_dns.size().to_frame('size')\n",
    "ASN_dns_counter"
   ]
  },
  {
   "cell_type": "code",
   "execution_count": null,
   "id": "35b4272a",
   "metadata": {
    "scrolled": true
   },
   "outputs": [],
   "source": [
    "#sorting the results and counting the percentage distribution\n",
    "result_asn = ASN_dns_counter.sort_values('size', ascending=False)\n",
    "result_asn['percent'] = result_asn['size']/total*100\n",
    "result_asn = result_asn.reset_index()\n",
    "result_asn.index += 1 \n",
    "print(result_asn)\n",
    "result_table = result_asn.head()\n",
    "result_table['percent'].sum()\n",
    "asn_pl = result_asn.cumsum().head(94)\n",
    "print(asn_pl)"
   ]
  },
  {
   "cell_type": "code",
   "execution_count": null,
   "id": "df5ce721",
   "metadata": {},
   "outputs": [],
   "source": [
    "#printing the graph\n",
    "asn_pl = result_asn.cumsum()\n",
    "asn_pl.plot(y='percent', use_index=True, kind='line', \n",
    "        figsize=(5, 4), legend=False, style='b.-')\n",
    "#plt.title(\"Distribution of domains across autonomous systems\", y=1.01, fontsize=15)\n",
    "plt.ylabel(\"Percentage of vulnerable domains\", labelpad=15, fontsize=12)\n",
    "plt.xlabel(\"Number of autonomous systems\", labelpad=15, fontsize=12);"
   ]
  },
  {
   "cell_type": "markdown",
   "id": "89a9f5d3",
   "metadata": {},
   "source": [
    "### Distribution of domains across autonomous systems based on web servers"
   ]
  },
  {
   "cell_type": "code",
   "execution_count": null,
   "id": "0a9796e9",
   "metadata": {},
   "outputs": [],
   "source": [
    "data['ASN_web'] = data['ASN(WEB)'].str.split(':').str[1]\n",
    "ASN_web = data.groupby('ASN_web')\n",
    "ASN_web_counter = ASN_web.size().to_frame('size')"
   ]
  },
  {
   "cell_type": "code",
   "execution_count": null,
   "id": "1ca8f6aa",
   "metadata": {},
   "outputs": [],
   "source": [
    "result_web = ASN_web_counter.sort_values('size', ascending=False)\n",
    "result_web = result_web.tail(1016)\n",
    "result_web['percent'] = result_web['size']/total*100\n",
    "result_table_web = result_web.head(46)\n",
    "result_web = result_web.reset_index()\n",
    "print(result_table_web)\n",
    "result_table_web['size'].sum()"
   ]
  },
  {
   "cell_type": "code",
   "execution_count": null,
   "id": "71e3bb3d",
   "metadata": {},
   "outputs": [],
   "source": [
    "asn_pl = result_web.cumsum()\n",
    "asn_pl.plot(y='percent', use_index=True, kind='line', \n",
    "        figsize=(10, 8), legend=False, style='b.-')\n",
    "plt.title(\"Distribution of domains across autonomous systems based on web servers\", y=1.01, fontsize=12)\n",
    "plt.ylabel(\"Percentage of vulnerable domains\", labelpad=15, fontsize=10)\n",
    "plt.xlabel(\"Number of autonomous systems\", labelpad=15, fontsize=10);"
   ]
  },
  {
   "cell_type": "markdown",
   "id": "37ed7754",
   "metadata": {},
   "source": [
    "### Distribution of domains across autonomous systems based on WHOIS records"
   ]
  },
  {
   "cell_type": "code",
   "execution_count": null,
   "id": "14633430",
   "metadata": {},
   "outputs": [],
   "source": [
    "whois_org = data.groupby('Whois org')\n",
    "whois_org_counter = whois_org.size().to_frame('size')\n",
    "result_whois_org = whois_org_counter.sort_values('size', ascending=False)\n",
    "result_whois_org['percent'] = result_whois_org['size']/total*100\n",
    "result_whois_org_table = result_whois_org.head(40)\n",
    "print(result_whois_org_table)\n",
    "result_whois_org['size'].sum()"
   ]
  },
  {
   "cell_type": "markdown",
   "id": "1d255ac2",
   "metadata": {},
   "source": [
    "### Analysis of DNS records"
   ]
  },
  {
   "cell_type": "markdown",
   "id": "d92a65d0",
   "metadata": {},
   "source": [
    "#### A records"
   ]
  },
  {
   "cell_type": "code",
   "execution_count": null,
   "id": "518442ea",
   "metadata": {},
   "outputs": [],
   "source": [
    "ipv4 = data.groupby('IPv4(WEB)')\n",
    "ipv4_counter = ipv4.size().to_frame('size')\n",
    "result_ipv4 = ipv4_counter.sort_values('size', ascending=False)\n",
    "result_ipv4['percent'] = result_ipv4['size']/total*100\n",
    "result_ipv4=result_ipv4.reset_index()\n",
    "result_ipv4_table = result_ipv4.head(249)\n",
    "print(result_ipv4_table)\n",
    "result_ipv4['size'].sum()"
   ]
  },
  {
   "cell_type": "markdown",
   "id": "8608ab32",
   "metadata": {},
   "source": [
    "#### AAAA records"
   ]
  },
  {
   "cell_type": "code",
   "execution_count": null,
   "id": "bac84c6e",
   "metadata": {},
   "outputs": [],
   "source": [
    "ipv6 = data.groupby('IPv6')\n",
    "ipv6_counter = ipv6.size().to_frame('size')\n",
    "result_ipv6 = ipv6_counter.sort_values('size', ascending=False)\n",
    "result_ipv6['percent'] = result_ipv6['size']/total*100\n",
    "result_ipv6_table = result_ipv6.head(249)\n",
    "print(result_ipv6_table)\n",
    "result_ipv6['size'].sum()"
   ]
  },
  {
   "cell_type": "markdown",
   "id": "32c02f86",
   "metadata": {},
   "source": [
    "#### CNAME records"
   ]
  },
  {
   "cell_type": "code",
   "execution_count": null,
   "id": "7137ff82",
   "metadata": {},
   "outputs": [],
   "source": [
    "cname = data.groupby('CNAME')\n",
    "cname_counter = cname.size().to_frame('size')\n",
    "result_cname = cname_counter.sort_values('size', ascending=False)\n",
    "result_cname['percent'] = result_cname['size']/total*100\n",
    "result_cname_table = result_cname.head()\n",
    "print(result_cname_table)\n",
    "result_cname['size'].sum()"
   ]
  },
  {
   "cell_type": "markdown",
   "id": "8fa36443",
   "metadata": {},
   "source": [
    "#### A, AAAA, CNAME records - information on web servers"
   ]
  },
  {
   "cell_type": "code",
   "execution_count": null,
   "id": "ce698289",
   "metadata": {},
   "outputs": [],
   "source": [
    "web = data.groupby(['IPv4(WEB)', 'IPv6', 'CNAME'])\n",
    "web_counter = web.size().to_frame('size')\n",
    "result_web = web_counter.sort_values('size', ascending=False)\n",
    "result_web['percent'] = result_web['size']/total*100\n",
    "result_web_table = result_web.head(249)\n",
    "print(result_web_table)\n",
    "result_web['size'].sum()"
   ]
  },
  {
   "cell_type": "markdown",
   "id": "c0f435e4",
   "metadata": {},
   "source": [
    "#### AXFR records"
   ]
  },
  {
   "cell_type": "code",
   "execution_count": null,
   "id": "224192b6",
   "metadata": {},
   "outputs": [],
   "source": [
    "axfr = data.groupby('AXFR')\n",
    "axfr_counter = axfr.size().to_frame('size')\n",
    "result_axfr = axfr_counter.sort_values('size', ascending=False)\n",
    "result_axfr['percent'] = result_axfr['size']/total*100\n",
    "result_axfr_table = result_axfr.head()\n",
    "print(result_axfr_table)\n",
    "result_axfr['size'].sum()"
   ]
  },
  {
   "cell_type": "markdown",
   "id": "2063b06f",
   "metadata": {},
   "source": [
    "#### DNSKEY records"
   ]
  },
  {
   "cell_type": "code",
   "execution_count": null,
   "id": "2402bf0a",
   "metadata": {},
   "outputs": [],
   "source": [
    "DNSKEY = data.groupby('DNSKEY')\n",
    "DNSKEY_counter = DNSKEY.size().to_frame('size')\n",
    "result_DNSKEY = DNSKEY_counter.sort_values('size', ascending=False)\n",
    "result_DNSKEY['percent'] = result_DNSKEY['size']/total*100\n",
    "result_DNSKEY_table = result_DNSKEY.head()\n",
    "print(result_DNSKEY_table)\n",
    "result_DNSKEY['size'].sum()"
   ]
  },
  {
   "cell_type": "markdown",
   "id": "7d65d66c",
   "metadata": {},
   "source": [
    "#### DS records"
   ]
  },
  {
   "cell_type": "code",
   "execution_count": null,
   "id": "f2cc2ffb",
   "metadata": {},
   "outputs": [],
   "source": [
    "DS = data.groupby('DS')\n",
    "DS_counter = DS.size().to_frame('size')\n",
    "result_DS = DS_counter.sort_values('size', ascending=False)\n",
    "result_DS['percent'] = result_DS['size']/total*100\n",
    "result_DS_table = result_DS.head()\n",
    "print(result_DS_table)\n",
    "result_DS['size'].sum()"
   ]
  },
  {
   "cell_type": "markdown",
   "id": "6b1e8448",
   "metadata": {},
   "source": [
    "#### KEY records"
   ]
  },
  {
   "cell_type": "code",
   "execution_count": null,
   "id": "fc8219ee",
   "metadata": {},
   "outputs": [],
   "source": [
    "KEY = data.groupby('KEY')\n",
    "KEY_counter = KEY.size().to_frame('size')\n",
    "result_KEY = KEY_counter.sort_values('size', ascending=False)\n",
    "result_KEY['percent'] = result_KEY['size']/total*100\n",
    "result_KEY_table = result_KEY.head()\n",
    "print(result_KEY_table)\n",
    "result_KEY['size'].sum()"
   ]
  },
  {
   "cell_type": "markdown",
   "id": "d0abaa2d",
   "metadata": {},
   "source": [
    "#### RRSIG records"
   ]
  },
  {
   "cell_type": "code",
   "execution_count": null,
   "id": "67b89f95",
   "metadata": {},
   "outputs": [],
   "source": [
    "RRSIG = data.groupby('RRSIG')\n",
    "RRSIG_counter = RRSIG.size().to_frame('size')\n",
    "result_RRSIG = RRSIG_counter.sort_values('size', ascending=False)\n",
    "result_RRSIG['percent'] = result_RRSIG['size']/total*100\n",
    "result_RRSIG_table = result_RRSIG.head()\n",
    "print(result_RRSIG_table)\n",
    "result_RRSIG['size'].sum()"
   ]
  },
  {
   "cell_type": "markdown",
   "id": "dff54e1e",
   "metadata": {},
   "source": [
    "#### MX records"
   ]
  },
  {
   "cell_type": "code",
   "execution_count": null,
   "id": "583d99c1",
   "metadata": {},
   "outputs": [],
   "source": [
    "MX = data.groupby('MX')\n",
    "MX_counter = MX.size().to_frame('size')\n",
    "result_MX = MX_counter.sort_values('size', ascending=False)\n",
    "result_MX['percent'] = result_MX['size']/total*100\n",
    "result_MX_table = result_MX\n",
    "print(result_MX_table)\n",
    "result_MX['size'].sum()"
   ]
  },
  {
   "cell_type": "markdown",
   "id": "8a8db215",
   "metadata": {},
   "source": [
    "#### NS records"
   ]
  },
  {
   "cell_type": "code",
   "execution_count": null,
   "id": "95f774e0",
   "metadata": {},
   "outputs": [],
   "source": [
    "NS_1 = data.groupby('NS.1')\n",
    "NS_1_counter = NS_1.size().to_frame('size')\n",
    "result_NS_1 = NS_1_counter.sort_values('size', ascending=False)\n",
    "result_NS_1['percent'] = result_NS_1['size']/total*100\n",
    "result_NS_1_table = result_NS_1.head()\n",
    "print(result_NS_1_table)\n",
    "result_NS_1['size'].sum()"
   ]
  },
  {
   "cell_type": "markdown",
   "id": "662dc4c8",
   "metadata": {},
   "source": [
    "#### TXT records"
   ]
  },
  {
   "cell_type": "code",
   "execution_count": null,
   "id": "33a1ab42",
   "metadata": {},
   "outputs": [],
   "source": [
    "TXT = data.groupby(['TXT'])\n",
    "TXT_counter = TXT.size().to_frame('size')\n",
    "result_TXT = TXT_counter.sort_values('size', ascending=False)\n",
    "result_TXT['percent'] = result_TXT['size']/total*100\n",
    "result_TXT_table = result_TXT\n",
    "print(result_TXT_table)\n",
    "result_TXT['size'].sum()"
   ]
  },
  {
   "cell_type": "markdown",
   "id": "b6c8faef",
   "metadata": {},
   "source": [
    "#### TXT and MX records - information on mail servers"
   ]
  },
  {
   "cell_type": "code",
   "execution_count": null,
   "id": "486b9dc3",
   "metadata": {},
   "outputs": [],
   "source": [
    "TXT = data.groupby(['TXT','MX'])\n",
    "TXT_counter = TXT.size().to_frame('size')\n",
    "result_TXT = TXT_counter.sort_values('size', ascending=False)\n",
    "result_TXT['percent'] = result_TXT['size']/total*100\n",
    "result_TXT_table = result_TXT\n",
    "print(result_TXT_table)\n",
    "result_TXT['size'].sum()"
   ]
  },
  {
   "cell_type": "markdown",
   "id": "5e0f1fa6",
   "metadata": {},
   "source": [
    "### Lexical data"
   ]
  },
  {
   "cell_type": "markdown",
   "id": "5b126431",
   "metadata": {},
   "source": [
    "#### TLD"
   ]
  },
  {
   "cell_type": "code",
   "execution_count": null,
   "id": "002609e2",
   "metadata": {},
   "outputs": [],
   "source": [
    "TLD = data.groupby('TLD')\n",
    "TLD_counter = TLD.size().to_frame('size')\n",
    "result_TLD = TLD_counter.sort_values('size', ascending=False)\n",
    "result_TLD['percent'] = result_TLD['size']/total*100\n",
    "result_TLD = result_TLD.reset_index()\n",
    "result_TLD_table = result_TLD.tail(50)\n",
    "print(result_TLD_table)\n",
    "result_TLD['size'].sum()"
   ]
  },
  {
   "cell_type": "code",
   "execution_count": null,
   "id": "5c32a7a0",
   "metadata": {},
   "outputs": [],
   "source": [
    "def group_lower_ranking_values(column):\n",
    "    rating_counts = data.groupby(column).agg('count')\n",
    "    pct_value = rating_counts[lambda x: x.columns[0]].quantile(0.99)\n",
    "    values_below_pct_value = rating_counts[lambda x: x.columns[0]].loc[lambda s: s < pct_value].index.values\n",
    "    def fix_values(row):\n",
    "        if row[column] in values_below_pct_value:\n",
    "            row[column] = 'Other'\n",
    "        return row \n",
    "    rating_grouped = data.apply(fix_values, axis=1).groupby(column).agg('count')\n",
    "    return rating_grouped"
   ]
  },
  {
   "cell_type": "code",
   "execution_count": null,
   "id": "d7542d0f",
   "metadata": {},
   "outputs": [],
   "source": [
    "rating_grouped = group_lower_ranking_values('TLD')\n",
    "print(rating_grouped)"
   ]
  },
  {
   "cell_type": "code",
   "execution_count": null,
   "id": "713d2b77",
   "metadata": {},
   "outputs": [],
   "source": [
    "plt.figure(1, figsize=(20,10)) \n",
    "the_grid = GridSpec(2, 2)\n",
    "\n",
    "plt.subplot(the_grid[0, 1], aspect=1)\n",
    "type_show_ids = plt.pie(rating_grouped['Domain'], labels=rating_grouped.index, autopct='%1.1f%%', shadow=True)\n",
    "plt.show()"
   ]
  },
  {
   "cell_type": "markdown",
   "id": "307dd1ac",
   "metadata": {},
   "source": [
    "#### Level of domains"
   ]
  },
  {
   "cell_type": "code",
   "execution_count": null,
   "id": "c1dd7b6b",
   "metadata": {},
   "outputs": [],
   "source": [
    "domain = data.groupby('Level of domain')\n",
    "domain_counter = domain.size().to_frame('size')\n",
    "result_domain = domain_counter.sort_values('size', ascending=False)\n",
    "result_domain['percent'] = result_domain['size']/total*100\n",
    "result_domain_table = result_domain.head()\n",
    "print(result_domain_table)\n",
    "result_domain['size'].sum()"
   ]
  },
  {
   "cell_type": "markdown",
   "id": "40d3ba46",
   "metadata": {},
   "source": [
    "#### Subdomain check"
   ]
  },
  {
   "cell_type": "code",
   "execution_count": null,
   "id": "63e1e5cf",
   "metadata": {},
   "outputs": [],
   "source": [
    "subd = data.groupby('research.')\n",
    "subd_counter = subd.size().to_frame('size')\n",
    "result_subd = subd_counter.sort_values('size', ascending=False)\n",
    "result_subd['percent'] = result_subd['size']/total*100\n",
    "result_subd_table = result_subd.head()\n",
    "print(result_subd_table)\n",
    "result_subd['size'].sum()"
   ]
  },
  {
   "cell_type": "markdown",
   "id": "86328e21",
   "metadata": {},
   "source": [
    "### Rankings"
   ]
  },
  {
   "cell_type": "markdown",
   "id": "1527846c",
   "metadata": {},
   "source": [
    "#### General list"
   ]
  },
  {
   "cell_type": "code",
   "execution_count": null,
   "id": "ff67ac6d",
   "metadata": {},
   "outputs": [],
   "source": [
    "d = data.groupby(['ALexa daily','Alexa global','Majestic','Umbrella','TRANCO'])\n",
    "d_counter = d.size().to_frame('size')\n",
    "result_d = d_counter.sort_values('size', ascending=False)\n",
    "result_d['percent'] = result_d['size']/total*100\n",
    "result_d_table = result_d.head()\n",
    "print(result_d_table)\n",
    "result_d['size'].sum()"
   ]
  },
  {
   "cell_type": "markdown",
   "id": "8ad16115",
   "metadata": {},
   "source": [
    "#### Alexa daily"
   ]
  },
  {
   "cell_type": "code",
   "execution_count": null,
   "id": "757acb19",
   "metadata": {},
   "outputs": [],
   "source": [
    "al_d = data.groupby('ALexa daily')\n",
    "al_d_counter = al_d.size().to_frame('size')\n",
    "result_al_d = al_d_counter.sort_values('ALexa daily', ascending=True)\n",
    "result_al_d['percent'] = result_al_d['size']/total*100\n",
    "result_al_d_table = result_al_d.head()\n",
    "print(result_al_d_table)\n",
    "result_al_d['size'].sum()"
   ]
  },
  {
   "cell_type": "markdown",
   "id": "c0514eee",
   "metadata": {},
   "source": [
    "#### Alexa global"
   ]
  },
  {
   "cell_type": "code",
   "execution_count": null,
   "id": "5247513e",
   "metadata": {},
   "outputs": [],
   "source": [
    "al = data.groupby('Alexa global')\n",
    "al_counter = al.size().to_frame('size')\n",
    "result_al = al_counter.sort_values('Alexa global', ascending=True)\n",
    "result_al['percent'] = result_al['size']/total*100\n",
    "result_al_table = result_al.head()\n",
    "print(result_al_table)\n",
    "result_al['size'].sum()"
   ]
  },
  {
   "cell_type": "markdown",
   "id": "16b47073",
   "metadata": {},
   "source": [
    "#### Majestic"
   ]
  },
  {
   "cell_type": "code",
   "execution_count": null,
   "id": "4614d9ee",
   "metadata": {},
   "outputs": [],
   "source": [
    "maj = data.groupby('Majestic')\n",
    "maj_counter = maj.size().to_frame('size')\n",
    "result_maj = maj_counter.sort_values('Majestic', ascending=True)\n",
    "result_maj['percent'] = result_maj['size']/total*100\n",
    "result_maj_table = result_maj.head()\n",
    "print(result_maj_table)\n",
    "result_maj['size'].sum()"
   ]
  },
  {
   "cell_type": "markdown",
   "id": "97adce31",
   "metadata": {},
   "source": [
    "#### Cisco Umbrella"
   ]
  },
  {
   "cell_type": "code",
   "execution_count": null,
   "id": "ab35d00c",
   "metadata": {},
   "outputs": [],
   "source": [
    "umb = data.groupby('Umbrella')\n",
    "umb_counter = umb.size().to_frame('size')\n",
    "result_umb = umb_counter.sort_values('Umbrella', ascending=True)\n",
    "result_umb['percent'] = result_umb['size']/total*100\n",
    "result_umb_table = result_umb.head()\n",
    "print(result_umb_table)\n",
    "result_umb['size'].sum()"
   ]
  },
  {
   "cell_type": "markdown",
   "id": "1ae6184c",
   "metadata": {},
   "source": [
    "#### TRANCO"
   ]
  },
  {
   "cell_type": "code",
   "execution_count": null,
   "id": "d28f04eb",
   "metadata": {},
   "outputs": [],
   "source": [
    "tr = data.groupby('TRANCO')\n",
    "tr_counter = tr.size().to_frame('size')\n",
    "result_tr = tr_counter.sort_values('TRANCO', ascending=True)\n",
    "result_tr['percent'] = result_tr['size']/total*100\n",
    "result_tr_table = result_tr.head()\n",
    "print(result_tr_table)\n",
    "result_tr['size'].sum()"
   ]
  },
  {
   "cell_type": "code",
   "execution_count": null,
   "id": "d0e9b05f",
   "metadata": {},
   "outputs": [],
   "source": [
    "some_rows = data[(data['TRANCO'] == 9912)]\n",
    "some_rows.to_csv('tranco3')"
   ]
  },
  {
   "cell_type": "markdown",
   "id": "b38823f0",
   "metadata": {},
   "source": [
    "### Blacklists"
   ]
  },
  {
   "cell_type": "markdown",
   "id": "54efff15",
   "metadata": {},
   "source": [
    "#### SafeBrowsing"
   ]
  },
  {
   "cell_type": "code",
   "execution_count": null,
   "id": "127a79bf",
   "metadata": {},
   "outputs": [],
   "source": [
    "sbd = data.groupby('SafeBrowsing(domain)')\n",
    "sbd_counter = sbd.size().to_frame('size')\n",
    "result_sbd = sbd_counter.sort_values('size', ascending=False)\n",
    "result_sbd['percent'] = result_sbd['size']/total*100\n",
    "result_sbd_table = result_sbd.head()\n",
    "print(result_sbd_table)\n",
    "result_sbd['size'].sum()"
   ]
  },
  {
   "cell_type": "code",
   "execution_count": null,
   "id": "f0ea89a4",
   "metadata": {},
   "outputs": [],
   "source": [
    "some_rows = data[(data['SafeBrowsing(domain)'] == \"['MALWARE']\")]\n",
    "some_rows"
   ]
  },
  {
   "cell_type": "code",
   "execution_count": null,
   "id": "3e551328",
   "metadata": {},
   "outputs": [],
   "source": [
    "some_rows = data[(data['SafeBrowsing(domain)'] == \"['SOCIAL_ENGINEERING']\")]\n",
    "some_rows"
   ]
  },
  {
   "cell_type": "code",
   "execution_count": null,
   "id": "c5276d23",
   "metadata": {},
   "outputs": [],
   "source": [
    "sbs = data.groupby('SafeBrowsing(subdomain)')\n",
    "sbs_counter = sbs.size().to_frame('size')\n",
    "print(sbs_counter)\n",
    "result_sbs = sbs_counter.sort_values('size', ascending=False)\n",
    "result_sbs['percent'] = result_sbs['size']/total*100\n",
    "result_sbs_table = result_sbs.head()\n",
    "print(result_sbs_table)\n",
    "result_sbs['size'].sum()"
   ]
  },
  {
   "cell_type": "code",
   "execution_count": null,
   "id": "bb53b26c",
   "metadata": {},
   "outputs": [],
   "source": [
    "some_rows = data[(data['SafeBrowsing(subdomain)'] == \"['MALWARE']\")]\n",
    "some_rows\n"
   ]
  },
  {
   "cell_type": "code",
   "execution_count": null,
   "id": "4236edde",
   "metadata": {},
   "outputs": [],
   "source": [
    "some_rows = data[(data['SafeBrowsing(subdomain)'] == \"['SOCIAL_ENGINEERING']\")]\n",
    "some_rows"
   ]
  },
  {
   "cell_type": "markdown",
   "id": "0423a4c0",
   "metadata": {},
   "source": [
    "#### VirusTotal"
   ]
  },
  {
   "cell_type": "code",
   "execution_count": null,
   "id": "01e0992d",
   "metadata": {},
   "outputs": [],
   "source": [
    "VirustotalAPI = data.groupby('VirustotalAPI')\n",
    "VirustotalAPI_counter = VirustotalAPI.size().to_frame('size')\n",
    "result_VirustotalAPI = VirustotalAPI_counter.sort_values('size', ascending=False)\n",
    "result_VirustotalAPI['percent'] = result_VirustotalAPI['size']/total*100\n",
    "result_VirustotalAPI_table = result_VirustotalAPI.head(40)\n",
    "print(result_VirustotalAPI_table)\n",
    "result_VirustotalAPI['size'].sum()"
   ]
  },
  {
   "cell_type": "code",
   "execution_count": null,
   "id": "c9c8bfbb",
   "metadata": {},
   "outputs": [],
   "source": [
    "some_rows = data[(data['VirustotalAPI'] > 0)]\n",
    "some_rows"
   ]
  },
  {
   "cell_type": "markdown",
   "id": "e1d540bb",
   "metadata": {},
   "source": [
    "### Fingerprinting"
   ]
  },
  {
   "cell_type": "markdown",
   "id": "ed4b7c37",
   "metadata": {},
   "source": [
    "#### OS"
   ]
  },
  {
   "cell_type": "code",
   "execution_count": null,
   "id": "3d4f7529",
   "metadata": {},
   "outputs": [],
   "source": [
    "OS = data.groupby('OS')\n",
    "OS_counter = OS.size().to_frame('size')\n",
    "result_OS = OS_counter.sort_values('size', ascending=False)\n",
    "result_OS['percent'] = result_OS['size']/total*100\n",
    "result_OS_table = result_OS.head()\n",
    "print(result_OS_table)\n",
    "result_OS['size'].sum()"
   ]
  },
  {
   "cell_type": "markdown",
   "id": "60090dba",
   "metadata": {},
   "source": [
    "#### Enrichment of data from banners"
   ]
  },
  {
   "cell_type": "code",
   "execution_count": null,
   "id": "ea2a74c6",
   "metadata": {},
   "outputs": [],
   "source": [
    "data['ban'] = data['Banners'].str.split('FreeBSD').str[1]\n",
    "Banners = data.groupby(['ban','IP of NS','Server'])\n",
    "Banners_counter = Banners.size().to_frame('size')\n",
    "result_Banners = Banners_counter.sort_values('size', ascending=False)\n",
    "result_Banners['percent'] = result_Banners['size']/total*100\n",
    "result_Banners_table = result_Banners.head(50)\n",
    "result_Banners['percent'].sum()"
   ]
  },
  {
   "cell_type": "code",
   "execution_count": null,
   "id": "2bf0b2d6",
   "metadata": {},
   "outputs": [],
   "source": [
    "data['ban'] = data['Banners'].str.split('Windows').str[1]\n",
    "Banners = data.groupby(['ban','IP of NS','Server'])\n",
    "Banners_counter = Banners.size().to_frame('size')\n",
    "result_Banners = Banners_counter.sort_values('size', ascending=False)\n",
    "result_Banners['percent'] = result_Banners['size']/total*100\n",
    "result_Banners_table = result_Banners.head(50)\n",
    "result_Banners['percent'].sum()"
   ]
  },
  {
   "cell_type": "markdown",
   "id": "ea31fc80",
   "metadata": {},
   "source": [
    "#### DNS server"
   ]
  },
  {
   "cell_type": "code",
   "execution_count": null,
   "id": "b0c9729f",
   "metadata": {},
   "outputs": [],
   "source": [
    "SERVER = data.groupby('Server')\n",
    "SERVER_counter = SERVER.size().to_frame('size')\n",
    "result_SERVER = SERVER_counter.sort_values('size', ascending=False)\n",
    "result_SERVER['percent'] = result_SERVER['size']/total*100\n",
    "result_SERVER_table = result_SERVER.head()\n",
    "print(result_SERVER_table)\n",
    "result_SERVER['size'].sum()"
   ]
  },
  {
   "cell_type": "markdown",
   "id": "46b9ce88",
   "metadata": {},
   "source": [
    "### SSL/TLS information"
   ]
  },
  {
   "cell_type": "markdown",
   "id": "7603bbf2",
   "metadata": {},
   "source": [
    "#### SSL/TLS"
   ]
  },
  {
   "cell_type": "code",
   "execution_count": null,
   "id": "d921c43e",
   "metadata": {},
   "outputs": [],
   "source": [
    "ssl = data.groupby(['SSL/TLS'])\n",
    "ssl_counter = ssl.size().to_frame('size')\n",
    "result_ssl = ssl_counter.sort_values('size', ascending=False)\n",
    "result_ssl['percent'] = result_ssl['size']/total*100\n",
    "result_ssl_table = result_ssl.head(100)\n",
    "print(result_ssl_table)\n",
    "result_ssl['size'].sum()"
   ]
  },
  {
   "cell_type": "markdown",
   "id": "2af2477c",
   "metadata": {},
   "source": [
    "#### CA"
   ]
  },
  {
   "cell_type": "code",
   "execution_count": null,
   "id": "f8d67dbe",
   "metadata": {},
   "outputs": [],
   "source": [
    "CA = data.groupby('CA')\n",
    "CA_counter = CA.size().to_frame('size')\n",
    "result_CA = CA_counter.sort_values('size', ascending=False)\n",
    "result_CA['percent'] = result_CA['size']/4202*100\n",
    "result_CA_table = result_CA.head(20)\n",
    "print(result_CA_table)\n",
    "result_CA['size'].sum()"
   ]
  },
  {
   "cell_type": "code",
   "execution_count": null,
   "id": "a25a5eab",
   "metadata": {},
   "outputs": [],
   "source": [
    "def group_lower_ranking_v(column):\n",
    "    rating_counts = data.groupby(column).agg('count')\n",
    "    pct_value = rating_counts[lambda x: x.columns[0]].quantile(0.98)\n",
    "    values_below_pct_value = rating_counts[lambda x: x.columns[0]].loc[lambda s: s < pct_value].index.values\n",
    "    def fix_values(row):\n",
    "        if row[column] in values_below_pct_value:\n",
    "            row[column] = 'Other'\n",
    "        return row \n",
    "    rating_grouped = data.apply(fix_values, axis=1).groupby(column).agg('count')\n",
    "    return rating_grouped"
   ]
  },
  {
   "cell_type": "code",
   "execution_count": null,
   "id": "b5b00aee",
   "metadata": {
    "scrolled": false
   },
   "outputs": [],
   "source": [
    "rating_grouped = group_lower_ranking_v('CA')\n",
    "print(rating_grouped)\n",
    "import matplotlib.pyplot as plt\n",
    "from matplotlib.gridspec import GridSpec\n",
    "\n",
    "plt.figure(1, figsize=(20,10)) \n",
    "the_grid = GridSpec(2, 2)\n",
    "\n",
    "plt.subplot(the_grid[0, 1], aspect=1, title='CA')\n",
    "type_show_ids = plt.pie(rating_grouped['Domain'], labels=rating_grouped.index, autopct='%1.1f%%', shadow=True)\n",
    "plt.show()"
   ]
  },
  {
   "cell_type": "markdown",
   "id": "d60235b7",
   "metadata": {},
   "source": [
    "### Registrar"
   ]
  },
  {
   "cell_type": "code",
   "execution_count": null,
   "id": "4b1fbfb7",
   "metadata": {},
   "outputs": [],
   "source": [
    "REG = data.groupby('REG')\n",
    "REG_counter = REG.size().to_frame('size')\n",
    "result_REG = REG_counter.sort_values('size', ascending=False)\n",
    "result_REG['percent'] = result_REG['size']/total*100\n",
    "result_REG_table = result_REG.head()\n",
    "print(result_REG_table)\n",
    "result_REG['size'].sum()"
   ]
  },
  {
   "cell_type": "markdown",
   "id": "b42c7875",
   "metadata": {},
   "source": [
    "### Country(WEB)/Country(NS)"
   ]
  },
  {
   "cell_type": "code",
   "execution_count": null,
   "id": "ba262c3f",
   "metadata": {},
   "outputs": [],
   "source": [
    "world = gpd.read_file(gpd.datasets.get_path('naturalearth_lowres'))"
   ]
  },
  {
   "cell_type": "markdown",
   "id": "2c6ca710",
   "metadata": {},
   "source": [
    "#### Distribution of domains based on location of DNS servers"
   ]
  },
  {
   "cell_type": "code",
   "execution_count": null,
   "id": "6fb7b68f",
   "metadata": {},
   "outputs": [],
   "source": [
    "country_dns = data.groupby('Country(NS)')\n",
    "country_dns_counter = country_dns.size().to_frame('size')\n",
    "country = country_dns_counter.sort_values('size', ascending=False)\n",
    "country = country.reset_index()\n",
    "country.loc[1,'Country(NS)'] = \"United States of America\"\n",
    "country['percent'] = country['size']/total*100\n",
    "result_country_dns_table = country.head()\n",
    "print(result_country_dns_table)\n",
    "country['size'].sum()"
   ]
  },
  {
   "cell_type": "code",
   "execution_count": null,
   "id": "4c74ebad",
   "metadata": {},
   "outputs": [],
   "source": [
    "co=country[['Country(NS)','size']]\n"
   ]
  },
  {
   "cell_type": "code",
   "execution_count": null,
   "id": "44e7756c",
   "metadata": {},
   "outputs": [],
   "source": [
    "world=world.merge(co,left_on='name',right_on='Country(NS)',how='outer')"
   ]
  },
  {
   "cell_type": "code",
   "execution_count": null,
   "id": "fe747fef",
   "metadata": {},
   "outputs": [],
   "source": [
    "world.plot(column='size', cmap='tab20b',figsize=(20,10),legend=True,missing_kwds={'color': 'lightgrey'})\n"
   ]
  },
  {
   "cell_type": "markdown",
   "id": "adfb60f4",
   "metadata": {},
   "source": [
    "#### Distribution of domains based on location of WEB servers"
   ]
  },
  {
   "cell_type": "code",
   "execution_count": null,
   "id": "8e448040",
   "metadata": {},
   "outputs": [],
   "source": [
    "country_web = data.groupby('Country(WEB)')\n",
    "country_web_counter = country_web.size().to_frame('size')\n",
    "country_w = country_web_counter.sort_values('size', ascending=False)\n",
    "country_w['percent'] = country_w['size']/total*100\n",
    "country_w = country_w.reset_index()\n",
    "result_country_web_table = country_w.head(100)\n",
    "print(result_country_web_table)\n",
    "country_w['size'].sum()\n",
    "country_w.loc[9,'Country(WEB)'] = \"GB\"\n",
    "country_w.loc[14,'Country(WEB)'] = \"CH\"\n",
    "country_w.loc[21,'Country(WEB)'] = \"AT\"\n",
    "country_w.loc[23,'Country(WEB)'] = \"MY\""
   ]
  },
  {
   "cell_type": "code",
   "execution_count": null,
   "id": "614334c2",
   "metadata": {},
   "outputs": [],
   "source": [
    "# add country name by applying the convert method\n",
    "country_w['country'] = country_w['Country(WEB)'].apply(lambda x: coco.convert(names=x, to='name_short', not_found=None))"
   ]
  },
  {
   "cell_type": "code",
   "execution_count": null,
   "id": "4fdc4be0",
   "metadata": {},
   "outputs": [],
   "source": [
    "country_w.loc[1,'country'] = \"United States of America\"\n",
    "co_w=country_w[['country','size']]\n"
   ]
  },
  {
   "cell_type": "code",
   "execution_count": null,
   "id": "492b244d",
   "metadata": {},
   "outputs": [],
   "source": [
    "world = gpd.read_file(gpd.datasets.get_path('naturalearth_lowres'))\n"
   ]
  },
  {
   "cell_type": "code",
   "execution_count": null,
   "id": "455c9721",
   "metadata": {},
   "outputs": [],
   "source": [
    "world=world.merge(co_w,left_on='name',right_on='country',how='outer')"
   ]
  },
  {
   "cell_type": "code",
   "execution_count": null,
   "id": "cff9ba78",
   "metadata": {},
   "outputs": [],
   "source": [
    "world.plot(column='size', cmap='tab20b',figsize=(20,10),legend=True,missing_kwds={'color': 'lightgrey'})\n"
   ]
  },
  {
   "cell_type": "markdown",
   "id": "b1585fd3",
   "metadata": {},
   "source": [
    "### Metadata"
   ]
  },
  {
   "cell_type": "code",
   "execution_count": null,
   "id": "f5cf3b22",
   "metadata": {},
   "outputs": [],
   "source": [
    "md = data.groupby('Metadata')\n",
    "md_counter = md.size().to_frame('size')\n",
    "result_md = md_counter.sort_values('size', ascending=False)\n",
    "result_md['percent'] = result_md['size']/total*100\n",
    "result_md_table = result_md.head()\n",
    "print(result_md_table)\n",
    "result_md['size'].sum()"
   ]
  },
  {
   "cell_type": "markdown",
   "id": "d0ac55b6",
   "metadata": {},
   "source": [
    "### Sublist3r"
   ]
  },
  {
   "cell_type": "code",
   "execution_count": null,
   "id": "3861c682",
   "metadata": {},
   "outputs": [],
   "source": [
    "Sublist3r = data.groupby('Sublist3r')\n",
    "Sublist3r_counter = Sublist3r.size().to_frame('size')\n",
    "result_Sublist3r = Sublist3r_counter.sort_values('size', ascending=False)\n",
    "result_Sublist3r['percent'] = result_Sublist3r['size']/total*100\n",
    "result_Sublist3r_table = result_Sublist3r.head()\n",
    "print(result_Sublist3r_table)\n",
    "result_Sublist3r['size'].sum()"
   ]
  },
  {
   "cell_type": "markdown",
   "id": "f45ff751",
   "metadata": {},
   "source": [
    "### TheHarvester"
   ]
  },
  {
   "cell_type": "markdown",
   "id": "ed20eed1",
   "metadata": {},
   "source": [
    "#### emails"
   ]
  },
  {
   "cell_type": "code",
   "execution_count": null,
   "id": "1008f656",
   "metadata": {},
   "outputs": [],
   "source": [
    "em_h = data.groupby('theharvester-emails')\n",
    "em_h_counter = em_h.size().to_frame('size')\n",
    "result_em_h = em_h_counter.sort_values('size', ascending=False)\n",
    "result_em_h['percent'] = result_em_h['size']/total*100\n",
    "result_em_h_table = result_em_h.head()\n",
    "print(result_em_h_table)\n",
    "result_em_h['size'].sum()"
   ]
  },
  {
   "cell_type": "markdown",
   "id": "274b739b",
   "metadata": {},
   "source": [
    "#### hosts"
   ]
  },
  {
   "cell_type": "code",
   "execution_count": null,
   "id": "75f518d5",
   "metadata": {},
   "outputs": [],
   "source": [
    "em_h = data.groupby('theharvester-hosts')\n",
    "em_h_counter = em_h.size().to_frame('size')\n",
    "result_em_h = em_h_counter.sort_values('size', ascending=False)\n",
    "result_em_h['percent'] = result_em_h['size']/total*100\n",
    "result_em_h_table = result_em_h.head()\n",
    "print(result_em_h_table)\n",
    "result_em_h['size'].sum()"
   ]
  },
  {
   "cell_type": "markdown",
   "id": "813e4434",
   "metadata": {},
   "source": [
    "#### IP addresses"
   ]
  },
  {
   "cell_type": "code",
   "execution_count": null,
   "id": "415dec68",
   "metadata": {},
   "outputs": [],
   "source": [
    "em_h = data.groupby('theharvester-ips')\n",
    "em_h_counter = em_h.size().to_frame('size')\n",
    "result_em_h = em_h_counter.sort_values('size', ascending=False)\n",
    "result_em_h['percent'] = result_em_h['size']/total*100\n",
    "result_em_h_table = result_em_h.head()\n",
    "print(result_em_h_table)\n",
    "result_em_h['size'].sum()"
   ]
  },
  {
   "cell_type": "markdown",
   "id": "e3eea030",
   "metadata": {},
   "source": [
    "#### Employees"
   ]
  },
  {
   "cell_type": "code",
   "execution_count": null,
   "id": "05b00dde",
   "metadata": {},
   "outputs": [],
   "source": [
    "em_h = data.groupby('theharvester-people')\n",
    "em_h_counter = em_h.size().to_frame('size')\n",
    "result_em_h = em_h_counter.sort_values('size', ascending=False)\n",
    "result_em_h['percent'] = result_em_h['size']/total*100\n",
    "result_em_h_table = result_em_h.head()\n",
    "print(result_em_h_table)\n",
    "result_em_h['size'].sum()"
   ]
  },
  {
   "cell_type": "markdown",
   "id": "0d4f3b89",
   "metadata": {},
   "source": [
    "### WEB technologies"
   ]
  },
  {
   "cell_type": "markdown",
   "id": "fb12dab1",
   "metadata": {},
   "source": [
    "#### WhatWeb"
   ]
  },
  {
   "cell_type": "code",
   "execution_count": null,
   "id": "1c72a3e3",
   "metadata": {},
   "outputs": [],
   "source": [
    "ww = data.groupby('WhatWeb')\n",
    "ww_counter = ww.size().to_frame('size')\n",
    "result_ww = ww_counter.sort_values('size', ascending=False)\n",
    "result_ww['percent'] = result_ww['size']/total*100\n",
    "result_ww_table = result_ww.head()\n",
    "print(result_ww_table)\n",
    "result_ww['size'].sum()"
   ]
  },
  {
   "cell_type": "markdown",
   "id": "2f9b5cb6",
   "metadata": {},
   "source": [
    "#### Wappalazer"
   ]
  },
  {
   "cell_type": "code",
   "execution_count": null,
   "id": "6f54df91",
   "metadata": {},
   "outputs": [],
   "source": [
    "data['ww'] = data['Wappalazer'].str.split('Apache').str[1]\n",
    "ww = data.groupby('ww')\n",
    "ww_counter = ww.size().to_frame('size')\n",
    "result_ww = ww_counter.sort_values('size', ascending=False)\n",
    "result_ww['percent'] = result_ww['size']/7000*100\n",
    "result_ww_table = result_ww.head()\n",
    "print(result_ww_table)\n",
    "result_ww['percent'].sum()"
   ]
  }
 ],
 "metadata": {
  "kernelspec": {
   "display_name": "Python 3 (ipykernel)",
   "language": "python",
   "name": "python3"
  },
  "language_info": {
   "codemirror_mode": {
    "name": "ipython",
    "version": 3
   },
   "file_extension": ".py",
   "mimetype": "text/x-python",
   "name": "python",
   "nbconvert_exporter": "python",
   "pygments_lexer": "ipython3",
   "version": "3.9.6"
  }
 },
 "nbformat": 4,
 "nbformat_minor": 5
}
